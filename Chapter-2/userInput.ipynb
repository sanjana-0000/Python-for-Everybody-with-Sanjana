{
 "cells": [
  {
   "cell_type": "code",
   "execution_count": null,
   "metadata": {},
   "outputs": [],
   "source": [
    "# Asking user unput\n",
    "speed = input('what is the velocity of an unladen swallow?\\n')\n",
    "print(speed)\n"
   ]
  },
  {
   "cell_type": "code",
   "execution_count": null,
   "metadata": {},
   "outputs": [],
   "source": [
    "# Exercises - 2.15(2-3)\n",
    "\n",
    "name = input('what is your name? \\n')\n",
    "print('Hello'+ name)\n",
    "\n",
    "Hours = input('Enter Hours :')\n",
    "Rate = input('Enter Rate :')\n",
    "pay = Hours * Rate\n",
    "\n",
    "print('Pay :'+pay)"
   ]
  },
  {
   "cell_type": "code",
   "execution_count": 3,
   "metadata": {},
   "outputs": [
    {
     "name": "stdout",
     "output_type": "stream",
     "text": [
      "8\n",
      "8.5\n",
      "68\n"
     ]
    }
   ],
   "source": [
    "# Exercise - 2.15(4-5)\n",
    "\n",
    "width = 17\n",
    "  \n",
    "print(width//2)      # result of integer division\n",
    "print(width/2.0)     # result of floating-point division\n",
    "\n",
    "celsius_temp = 20\n",
    "\n",
    "fahrenheit_temp = celsius_temp * 9//5 + 32\n",
    "print(fahrenheit_temp)"
   ]
  }
 ],
 "metadata": {
  "kernelspec": {
   "display_name": "Python 3",
   "language": "python",
   "name": "python3"
  },
  "language_info": {
   "codemirror_mode": {
    "name": "ipython",
    "version": 3
   },
   "file_extension": ".py",
   "mimetype": "text/x-python",
   "name": "python",
   "nbconvert_exporter": "python",
   "pygments_lexer": "ipython3",
   "version": "3.11.5"
  }
 },
 "nbformat": 4,
 "nbformat_minor": 2
}
