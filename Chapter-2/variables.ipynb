{
 "cells": [
  {
   "cell_type": "code",
   "execution_count": 4,
   "metadata": {},
   "outputs": [
    {
     "data": {
      "text/plain": [
       "float"
      ]
     },
     "execution_count": 4,
     "metadata": {},
     "output_type": "execute_result"
    }
   ],
   "source": [
    "# values and types\n",
    "type('hello world')\n",
    "type(7)\n",
    "type(3.4)"
   ]
  },
  {
   "cell_type": "code",
   "execution_count": 5,
   "metadata": {},
   "outputs": [
    {
     "name": "stdout",
     "output_type": "stream",
     "text": [
      "1 0 0\n"
     ]
    }
   ],
   "source": [
    "# Python interprets 1,000,000 as comma separated sequence of integers\n",
    "print(1,000,000)"
   ]
  },
  {
   "cell_type": "code",
   "execution_count": 7,
   "metadata": {},
   "outputs": [
    {
     "name": "stdout",
     "output_type": "stream",
     "text": [
      "Hey, I am Sanjana, how have you been?\n",
      "20\n",
      "3.1416\n"
     ]
    }
   ],
   "source": [
    "# variables \n",
    "\n",
    "message = 'Hey, I am Sanjana, how have you been?'\n",
    "n = 20\n",
    "pi = 3.1416\n",
    "\n",
    "print(message)\n",
    "print(n)\n",
    "print(pi)"
   ]
  },
  {
   "cell_type": "code",
   "execution_count": 8,
   "metadata": {},
   "outputs": [
    {
     "name": "stdout",
     "output_type": "stream",
     "text": [
      "1\n",
      "5\n"
     ]
    }
   ],
   "source": [
    "# statements\n",
    "\n",
    "print(1)\n",
    "x = 2\n",
    "x = x + 3\n",
    "print(x)"
   ]
  },
  {
   "cell_type": "code",
   "execution_count": 12,
   "metadata": {},
   "outputs": [
    {
     "name": "stdout",
     "output_type": "stream",
     "text": [
      "4\n",
      "-3\n",
      "4\n",
      "1.0\n",
      "4\n",
      "8\n"
     ]
    }
   ],
   "source": [
    "# Operators, operands and order of operators\n",
    "x = 2\n",
    "\n",
    "print(x+2)\n",
    "print(x-5)\n",
    "print(x*x)\n",
    "print(x/2)\n",
    "print(x**2)\n",
    "print(x**x*x+x-2)"
   ]
  },
  {
   "cell_type": "code",
   "execution_count": 14,
   "metadata": {},
   "outputs": [
    {
     "name": "stdout",
     "output_type": "stream",
     "text": [
      "2\n",
      "1\n"
     ]
    }
   ],
   "source": [
    "# Modulus operator\n",
    "\n",
    "quotient = 6 // 3\n",
    "print(quotient)\n",
    "\n",
    "reminder = 7 % 3\n",
    "print(reminder)"
   ]
  },
  {
   "cell_type": "code",
   "execution_count": 17,
   "metadata": {},
   "outputs": [
    {
     "name": "stdout",
     "output_type": "stream",
     "text": [
      "Welcome to my Github account, You can find my Python repository here.\n",
      "hello hello hello \n"
     ]
    }
   ],
   "source": [
    "# concatenation \n",
    "\n",
    "message = 'Welcome to my Github account'\n",
    "message1 = 'You can find my Python repository here.'\n",
    "\n",
    "print(message+', '+message1)\n",
    "\n",
    "message2 = 'hello '\n",
    "times = 3\n",
    "\n",
    "print(message2 * times)\n"
   ]
  }
 ],
 "metadata": {
  "kernelspec": {
   "display_name": "Python 3",
   "language": "python",
   "name": "python3"
  },
  "language_info": {
   "codemirror_mode": {
    "name": "ipython",
    "version": 3
   },
   "file_extension": ".py",
   "mimetype": "text/x-python",
   "name": "python",
   "nbconvert_exporter": "python",
   "pygments_lexer": "ipython3",
   "version": "3.11.5"
  }
 },
 "nbformat": 4,
 "nbformat_minor": 2
}
