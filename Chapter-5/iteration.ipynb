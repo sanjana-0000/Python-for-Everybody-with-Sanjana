{
 "cells": [
  {
   "cell_type": "code",
   "execution_count": 1,
   "metadata": {},
   "outputs": [
    {
     "name": "stdout",
     "output_type": "stream",
     "text": [
      "5\n",
      "4\n",
      "3\n",
      "2\n",
      "1\n",
      "loop out\n"
     ]
    }
   ],
   "source": [
    "# while statement\n",
    "\n",
    "n = 5\n",
    "while n > 0 :\n",
    "    print(n)\n",
    "    n = n - 1\n",
    "print('loop out')"
   ]
  },
  {
   "cell_type": "code",
   "execution_count": 3,
   "metadata": {},
   "outputs": [
    {
     "name": "stdout",
     "output_type": "stream",
     "text": [
      "10Done\n"
     ]
    }
   ],
   "source": [
    "# infinite loop \n",
    "\n",
    "n = 10\n",
    "while True:\n",
    "    print(n, end='')\n",
    "    break\n",
    "    n = n - 1\n",
    "print('Done')"
   ]
  },
  {
   "cell_type": "code",
   "execution_count": 4,
   "metadata": {},
   "outputs": [],
   "source": [
    "# take user input until type done\n",
    "\n",
    "while True:\n",
    "    line = input(' > ')\n",
    "    if line == 'done':\n",
    "        break\n",
    "    print(line)\n",
    "print('END LOOP')"
   ]
  },
  {
   "cell_type": "code",
   "execution_count": 1,
   "metadata": {},
   "outputs": [],
   "source": [
    "# use continue and break \n",
    "\n",
    "while True:\n",
    "    line = input('> ')\n",
    "    if line[0] == '#' :\n",
    "        continue\n",
    "    if line == 'Done' :\n",
    "        break\n",
    "print('Loop ends')\n"
   ]
  },
  {
   "cell_type": "code",
   "execution_count": 2,
   "metadata": {},
   "outputs": [
    {
     "name": "stdout",
     "output_type": "stream",
     "text": [
      "Happy New Year A\n",
      "Happy New Year B\n",
      "Happy New Year C\n",
      "Done\n"
     ]
    }
   ],
   "source": [
    "# For loop \n",
    "\n",
    "friends = ['A','B','C']\n",
    "\n",
    "for friend in friends :\n",
    "    print('Happy New Year', friend)\n",
    "print('Done')"
   ]
  },
  {
   "cell_type": "code",
   "execution_count": 3,
   "metadata": {},
   "outputs": [
    {
     "name": "stdout",
     "output_type": "stream",
     "text": [
      "count 7\n"
     ]
    }
   ],
   "source": [
    "# counting the items in the list\n",
    "\n",
    "count = 0\n",
    "for items in [3, 4, 5, 6, 7, 8, 9]:\n",
    "    count = count + 1\n",
    "print('count', count)"
   ]
  },
  {
   "cell_type": "code",
   "execution_count": 2,
   "metadata": {},
   "outputs": [
    {
     "name": "stdout",
     "output_type": "stream",
     "text": [
      "Largest: None\n",
      "loop: 3 3\n",
      "Largest: 3\n"
     ]
    }
   ],
   "source": [
    "# maximun loops\n",
    "\n",
    "largest = None\n",
    "print('Largest:', largest)\n",
    "for item in [3, 4, 5, 6, 7, 8, 9]:\n",
    "    if largest is None or item > item:\n",
    "        largest = item\n",
    "        print('loop:', item, largest)\n",
    "print('Largest:', largest)\n"
   ]
  },
  {
   "cell_type": "code",
   "execution_count": 6,
   "metadata": {},
   "outputs": [
    {
     "name": "stdout",
     "output_type": "stream",
     "text": [
      "Lowest: None\n",
      "Loop 10 10\n",
      "lowest: 10\n"
     ]
    }
   ],
   "source": [
    "# minimum loop\n",
    "\n",
    "lowest = None\n",
    "print('Lowest:',lowest)\n",
    "for number in [10, 5, 2]:\n",
    "    if lowest is None or number < number:\n",
    "        lowest = number\n",
    "        print('Loop', number, lowest)\n",
    "print('lowest:', lowest)"
   ]
  },
  {
   "cell_type": "code",
   "execution_count": 10,
   "metadata": {},
   "outputs": [],
   "source": [
    "# Build in function min(), max()\n",
    "\n",
    "def min(number):\n",
    "    lowest = None\n",
    "    for value in number:\n",
    "        if lowest is None or value < number:\n",
    "            lowest = value\n",
    "    print('lowest:', lowest)"
   ]
  }
 ],
 "metadata": {
  "kernelspec": {
   "display_name": "Python 3",
   "language": "python",
   "name": "python3"
  },
  "language_info": {
   "codemirror_mode": {
    "name": "ipython",
    "version": 3
   },
   "file_extension": ".py",
   "mimetype": "text/x-python",
   "name": "python",
   "nbconvert_exporter": "python",
   "pygments_lexer": "ipython3",
   "version": "3.11.5"
  }
 },
 "nbformat": 4,
 "nbformat_minor": 2
}
