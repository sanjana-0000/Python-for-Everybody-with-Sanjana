{
 "cells": [
  {
   "cell_type": "code",
   "execution_count": 3,
   "metadata": {},
   "outputs": [
    {
     "name": "stdout",
     "output_type": "stream",
     "text": [
      "Hello\n",
      "World\n"
     ]
    },
    {
     "data": {
      "text/plain": [
       "11"
      ]
     },
     "execution_count": 3,
     "metadata": {},
     "output_type": "execute_result"
    }
   ],
   "source": [
    "stuff = 'Hello\\nWorld'\n",
    "print(stuff)\n",
    "len(stuff)"
   ]
  },
  {
   "cell_type": "code",
   "execution_count": 13,
   "metadata": {},
   "outputs": [
    {
     "name": "stdout",
     "output_type": "stream",
     "text": [
      "Total line: 9\n"
     ]
    }
   ],
   "source": [
    "x = open(r\"C:\\Users\\User\\Desktop\\test.txt\")\n",
    "count = 0\n",
    "for line in x :\n",
    "    count = count + 1\n",
    "print('Total line:', count)"
   ]
  },
  {
   "cell_type": "code",
   "execution_count": 18,
   "metadata": {},
   "outputs": [
    {
     "name": "stdout",
     "output_type": "stream",
     "text": [
      "115\n",
      "Sanjana Hossain Sonali\n"
     ]
    }
   ],
   "source": [
    "x = open(r\"C:\\Users\\User\\Desktop\\test.txt\")\n",
    "inp = x.read()\n",
    "print(len(inp))\n",
    "\n",
    "print(inp[:22])"
   ]
  },
  {
   "cell_type": "code",
   "execution_count": 21,
   "metadata": {},
   "outputs": [
    {
     "name": "stdout",
     "output_type": "stream",
     "text": [
      "Sanjana Hossain Sonali\n",
      "\n"
     ]
    }
   ],
   "source": [
    "x = open(r\"C:\\Users\\User\\Desktop\\test.txt\")\n",
    "for line in x :\n",
    "    if line.startswith('S') :\n",
    "        print(line)"
   ]
  },
  {
   "cell_type": "code",
   "execution_count": 25,
   "metadata": {},
   "outputs": [
    {
     "name": "stdout",
     "output_type": "stream",
     "text": [
      "Sanjana Hossain Sonali\n",
      "None\n",
      "None\n",
      "None\n",
      "None\n",
      "None\n",
      "None\n",
      "None\n",
      "None\n"
     ]
    }
   ],
   "source": [
    "x = open(r\"C:\\Users\\User\\Desktop\\test.txt\")\n",
    "for line in x :\n",
    "    line = line.strip()\n",
    "    if line.startswith('S') :\n",
    "        print(line)\n",
    "    else :\n",
    "        print('None')"
   ]
  },
  {
   "cell_type": "code",
   "execution_count": 26,
   "metadata": {},
   "outputs": [
    {
     "name": "stdout",
     "output_type": "stream",
     "text": [
      "Sanjana Hossain Sonali\n"
     ]
    }
   ],
   "source": [
    "x = open(r\"C:\\Users\\User\\Desktop\\test.txt\")\n",
    "for line in x :\n",
    "    line = line.strip()\n",
    "    if not line.startswith('S') :\n",
    "        continue                      # SKIP UNINTERESTING LINES\n",
    "    print(line)                       # PROCESS INTERESTING LINES"
   ]
  },
  {
   "cell_type": "code",
   "execution_count": 29,
   "metadata": {},
   "outputs": [
    {
     "name": "stdout",
     "output_type": "stream",
     "text": [
      "Sanjana Hossain Sonali\n"
     ]
    }
   ],
   "source": [
    "x = open(r\"C:\\Users\\User\\Desktop\\test.txt\")\n",
    "for line in x :\n",
    "    line = line.strip()\n",
    "    if line.find('li') == -1 :\n",
    "        continue\n",
    "    print(line)"
   ]
  },
  {
   "cell_type": "code",
   "execution_count": null,
   "metadata": {},
   "outputs": [],
   "source": [
    "fname = input('Enter the file name: ')\n",
    "x = open(fname)\n",
    "count = 0\n",
    "for line in x :\n",
    "    count = count + 1\n",
    "print(count)"
   ]
  },
  {
   "cell_type": "code",
   "execution_count": 30,
   "metadata": {},
   "outputs": [
    {
     "ename": "SyntaxError",
     "evalue": "(unicode error) 'unicodeescape' codec can't decode bytes in position 2-3: truncated \\UXXXXXXXX escape (2496179128.py, line 1)",
     "output_type": "error",
     "traceback": [
      "\u001b[1;36m  Cell \u001b[1;32mIn[30], line 1\u001b[1;36m\u001b[0m\n\u001b[1;33m    fout = open('C:\\Users\\User\\Desktop\\test.txt', 'w')\u001b[0m\n\u001b[1;37m                                                ^\u001b[0m\n\u001b[1;31mSyntaxError\u001b[0m\u001b[1;31m:\u001b[0m (unicode error) 'unicodeescape' codec can't decode bytes in position 2-3: truncated \\UXXXXXXXX escape\n"
     ]
    }
   ],
   "source": [
    "fout = open('C:\\Users\\User\\Desktop\\test.txt', 'w')\n",
    "print(fout)"
   ]
  }
 ],
 "metadata": {
  "kernelspec": {
   "display_name": "Python 3",
   "language": "python",
   "name": "python3"
  },
  "language_info": {
   "codemirror_mode": {
    "name": "ipython",
    "version": 3
   },
   "file_extension": ".py",
   "mimetype": "text/x-python",
   "name": "python",
   "nbconvert_exporter": "python",
   "pygments_lexer": "ipython3",
   "version": "3.11.5"
  }
 },
 "nbformat": 4,
 "nbformat_minor": 2
}
