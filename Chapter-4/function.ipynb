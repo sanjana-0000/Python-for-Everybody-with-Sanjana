{
 "cells": [
  {
   "cell_type": "code",
   "execution_count": 3,
   "metadata": {},
   "outputs": [
    {
     "data": {
      "text/plain": [
       "11"
      ]
     },
     "execution_count": 3,
     "metadata": {},
     "output_type": "execute_result"
    }
   ],
   "source": [
    "# build in functions\n",
    "\n",
    "max('Hello world')\n",
    "min('Hello world')\n",
    "len('Hello world')"
   ]
  },
  {
   "cell_type": "code",
   "execution_count": 4,
   "metadata": {},
   "outputs": [
    {
     "data": {
      "text/plain": [
       "3"
      ]
     },
     "execution_count": 4,
     "metadata": {},
     "output_type": "execute_result"
    }
   ],
   "source": [
    "# convert values with build in function\n",
    "\n",
    "int(3.95845885)    # int chops off the fraction part / float converts str and int into floating point number / string converts everything into string"
   ]
  },
  {
   "cell_type": "code",
   "execution_count": 8,
   "metadata": {},
   "outputs": [
    {
     "name": "stdout",
     "output_type": "stream",
     "text": [
      "0.8116010338128875\n",
      "0.6768154938882941\n",
      "0.6303708974264147\n",
      "0.8204327247792381\n",
      "0.11838843521262377\n",
      "0.7062354579262572\n",
      "0.17633506254785525\n",
      "0.8805446451549467\n",
      "0.48116667566826077\n",
      "0.49550705182106936\n"
     ]
    },
    {
     "data": {
      "text/plain": [
       "9"
      ]
     },
     "execution_count": 8,
     "metadata": {},
     "output_type": "execute_result"
    }
   ],
   "source": [
    "# math functions\n",
    "import math\n",
    "import random\n",
    "\n",
    "math.sqrt(2)\n",
    "for i in range(10):\n",
    "    x = random.random()\n",
    "    print(x)\n",
    "\n",
    "t = [1, 2, 3]\n",
    "random.choice(t)\n",
    "\n",
    "random.randint(5, 10)     # return any integer value in range"
   ]
  },
  {
   "cell_type": "code",
   "execution_count": 15,
   "metadata": {},
   "outputs": [
    {
     "name": "stdout",
     "output_type": "stream",
     "text": [
      "Roses are red, violets are blue\n",
      "I love you\n",
      "Roses are red, violets are blue\n",
      "I love you\n",
      "hey hey, what have you been?\n",
      "I am good\n"
     ]
    }
   ],
   "source": [
    "# adding new function\n",
    "\n",
    "def print_lyrics():\n",
    "    print('Roses are red, violets are blue')\n",
    "    print('I love you')\n",
    "\n",
    "def dialog():\n",
    "    print('hey hey, what have you been?')\n",
    "    print('I am good')\n",
    "\n",
    "print_lyrics()\n",
    "\n",
    "def repeat_lyrics():\n",
    "    print_lyrics()\n",
    "    dialog()\n",
    "\n",
    "repeat_lyrics()"
   ]
  },
  {
   "cell_type": "code",
   "execution_count": 35,
   "metadata": {},
   "outputs": [
    {
     "name": "stdout",
     "output_type": "stream",
     "text": [
      "8\n"
     ]
    }
   ],
   "source": [
    "def addTwo(a, b):\n",
    "    sum = a + b\n",
    "    return sum\n",
    "x = addTwo(3, 5)\n",
    "print(x)"
   ]
  }
 ],
 "metadata": {
  "kernelspec": {
   "display_name": "Python 3",
   "language": "python",
   "name": "python3"
  },
  "language_info": {
   "codemirror_mode": {
    "name": "ipython",
    "version": 3
   },
   "file_extension": ".py",
   "mimetype": "text/x-python",
   "name": "python",
   "nbconvert_exporter": "python",
   "pygments_lexer": "ipython3",
   "version": "3.11.5"
  }
 },
 "nbformat": 4,
 "nbformat_minor": 2
}
