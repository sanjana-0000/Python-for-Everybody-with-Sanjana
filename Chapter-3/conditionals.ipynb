{
 "cells": [
  {
   "cell_type": "code",
   "execution_count": 13,
   "metadata": {},
   "outputs": [
    {
     "name": "stdout",
     "output_type": "stream",
     "text": [
      "x is less than y\n"
     ]
    }
   ],
   "source": [
    "# chained conditions\n",
    "x = 3\n",
    "y = 9\n",
    "\n",
    "if x > y :\n",
    "    print( x +'is greater than y')\n",
    "elif x < y :\n",
    "    print('x is less than y')\n",
    "else :\n",
    "    print('x equals y')"
   ]
  },
  {
   "cell_type": "code",
   "execution_count": null,
   "metadata": {},
   "outputs": [
    {
     "name": "stdout",
     "output_type": "stream",
     "text": [
      "x is less than y\n"
     ]
    }
   ],
   "source": [
    "# nested conditions\n",
    "\n",
    "if x == y :\n",
    "    print('x equals y')\n",
    "else :\n",
    "    if x > y :\n",
    "        print('x is greater than y')\n",
    "    else :\n",
    "        print('x is less than y')"
   ]
  },
  {
   "cell_type": "code",
   "execution_count": null,
   "metadata": {},
   "outputs": [],
   "source": [
    "inp = input('Enter Fahrenheit Temperature:')\n",
    "try :\n",
    "    fahr = float(inp)\n",
    "    celsius = (fahr - 32.0) * 5.0 / 9.0\n",
    "    print(celsius)\n",
    "except :\n",
    "    print('Enter a number:')"
   ]
  }
 ],
 "metadata": {
  "kernelspec": {
   "display_name": "Python 3",
   "language": "python",
   "name": "python3"
  },
  "language_info": {
   "codemirror_mode": {
    "name": "ipython",
    "version": 3
   },
   "file_extension": ".py",
   "mimetype": "text/x-python",
   "name": "python",
   "nbconvert_exporter": "python",
   "pygments_lexer": "ipython3",
   "version": "3.11.5"
  }
 },
 "nbformat": 4,
 "nbformat_minor": 2
}
